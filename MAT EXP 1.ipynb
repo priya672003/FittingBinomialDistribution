{
 "cells": [
  {
   "cell_type": "code",
   "execution_count": 2,
   "id": "c50032cd",
   "metadata": {},
   "outputs": [],
   "source": [
    "import numpy as np"
   ]
  },
  {
   "cell_type": "code",
   "execution_count": 3,
   "id": "f0a025c4",
   "metadata": {},
   "outputs": [],
   "source": [
    "import math"
   ]
  },
  {
   "cell_type": "code",
   "execution_count": 4,
   "id": "c88a357a",
   "metadata": {},
   "outputs": [],
   "source": [
    "import scipy.stats"
   ]
  },
  {
   "cell_type": "code",
   "execution_count": 5,
   "id": "2714cbbe",
   "metadata": {},
   "outputs": [],
   "source": [
    "X=[0,1,2,3,4,5,6]"
   ]
  },
  {
   "cell_type": "code",
   "execution_count": 6,
   "id": "8b3ab26a",
   "metadata": {},
   "outputs": [],
   "source": [
    "f=[13,25,52,68,32,16,4]"
   ]
  },
  {
   "cell_type": "code",
   "execution_count": 7,
   "id": "33d56903",
   "metadata": {},
   "outputs": [],
   "source": [
    "n=6"
   ]
  },
  {
   "cell_type": "code",
   "execution_count": 8,
   "id": "dd48503e",
   "metadata": {},
   "outputs": [],
   "source": [
    "N=np.sum(f)"
   ]
  },
  {
   "cell_type": "code",
   "execution_count": 9,
   "id": "d9c71ef7",
   "metadata": {},
   "outputs": [],
   "source": [
    "mean=np.inner(X,f)/N"
   ]
  },
  {
   "cell_type": "code",
   "execution_count": 10,
   "id": "ca876f4f",
   "metadata": {},
   "outputs": [],
   "source": [
    "p=mean/n"
   ]
  },
  {
   "cell_type": "code",
   "execution_count": 11,
   "id": "21106f63",
   "metadata": {},
   "outputs": [],
   "source": [
    "q=1-p"
   ]
  },
  {
   "cell_type": "code",
   "execution_count": 12,
   "id": "176f3368",
   "metadata": {},
   "outputs": [],
   "source": [
    "Pr=list(); E=list(); xi=list()"
   ]
  },
  {
   "cell_type": "code",
   "execution_count": 15,
   "id": "7c2183d3",
   "metadata": {},
   "outputs": [
    {
     "name": "stdout",
     "output_type": "stream",
     "text": [
      "  X P(X=x) Obs.Fr  Ex.Fre   xi \n",
      "----------------------------------\n",
      "0.00 0.00  13.00   0.00  inf\n",
      "1.00 7.42  25.00   1558.23  1508.64\n",
      "2.00 29.68  52.00   6232.94  6129.37\n",
      "3.00 44.52  68.00   9349.40  9213.90\n",
      "4.00 29.68  32.00   6232.94  6169.10\n",
      "5.00 7.42  16.00   1558.23  1526.40\n",
      "6.00 0.00  4.00   0.00  inf\n",
      "----------------------------------\n",
      "Calculated value of Chi square is  inf\n",
      "Table value of Chi square at 1  level is 16.81\n",
      "The given data cannot be fitted in binomial distribution at 1% LOS\n"
     ]
    },
    {
     "name": "stderr",
     "output_type": "stream",
     "text": [
      "C:\\Users\\priya\\AppData\\Local\\Temp/ipykernel_2180/3883900415.py:7: RuntimeWarning: divide by zero encountered in double_scalars\n",
      "  xi.append((f[x]-E[x])**2/E[x])\n"
     ]
    }
   ],
   "source": [
    "print(\"  X P(X=x) Obs.Fr  Ex.Fre   xi \")\n",
    "print(\"----------------------------------\")\n",
    "for x in range(7):\n",
    "    c=math.factorial(n)/(math.factorial(x)*math.factorial(n-x))\n",
    "    Pr.append(c*p*x*q*(n-x))\n",
    "    E.append(Pr[x]*N)\n",
    "    xi.append((f[x]-E[x])**2/E[x])\n",
    "    print(\"%2.2f %2.2f  %4.2f   %3.2f  %3.2f\"%(x,Pr[x],f[x],E[x],xi[x]))\n",
    "print(\"----------------------------------\")\n",
    "cal_chi2=np.sum(xi)\n",
    "print(\"Calculated value of Chi square is %4.2f\"%cal_chi2)\n",
    "tab_chi2=scipy.stats.chi2.ppf(1-.01, df=n)\n",
    "print(\"Table value of Chi square at 1  level is %4.2f\"%tab_chi2)\n",
    "if cal_chi2<tab_chi2:\n",
    "    print(\"The given data can be fitted in binomial distribution at 1% LOS\")\n",
    "else:\n",
    "    print(\"The given data cannot be fitted in binomial distribution at 1% LOS\")"
   ]
  },
  {
   "cell_type": "code",
   "execution_count": null,
   "id": "189e3441",
   "metadata": {},
   "outputs": [],
   "source": []
  }
 ],
 "metadata": {
  "kernelspec": {
   "display_name": "Python 3 (ipykernel)",
   "language": "python",
   "name": "python3"
  },
  "language_info": {
   "codemirror_mode": {
    "name": "ipython",
    "version": 3
   },
   "file_extension": ".py",
   "mimetype": "text/x-python",
   "name": "python",
   "nbconvert_exporter": "python",
   "pygments_lexer": "ipython3",
   "version": "3.9.7"
  }
 },
 "nbformat": 4,
 "nbformat_minor": 5
}
